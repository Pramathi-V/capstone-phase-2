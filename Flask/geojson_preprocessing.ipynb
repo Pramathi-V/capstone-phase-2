{
 "cells": [
  {
   "cell_type": "code",
   "execution_count": null,
   "metadata": {},
   "outputs": [
    {
     "name": "stdout",
     "output_type": "stream",
     "text": [
      "Transformation complete! Check the output file.\n"
     ]
    }
   ],
   "source": [
    "import json\n",
    "import uuid\n",
    "\n",
    "with open(\"31-01-2023.geojson\", \"r\") as f:\n",
    "    input_data = json.load(f)\n",
    "\n",
    "output_data = {\n",
    "    \"type\": \"FeatureCollection\",\n",
    "    \"crs\": {\"type\": \"name\", \"properties\": {\"name\": \"urn:ogc:def:crs:OGC:1.3:CRS84\"}},\n",
    "    \"features\": []\n",
    "}\n",
    "\n",
    "#req. features\n",
    "for feature in input_data[\"features\"]:\n",
    "    properties = feature[\"properties\"]\n",
    "    geometry = feature[\"geometry\"]\n",
    "    \n",
    "\n",
    "    new_properties = {\n",
    "        \"OBJECTID\": str(uuid.uuid4()), \n",
    "        \"AREA\": properties.get(\"area\", 0),\n",
    "        \"D_N\": properties.get(\"district_name\", \"Unknown\"),\n",
    "        \"Shape_Area\": properties.get(\"area\", 0),\n",
    "    }\n",
    "\n",
    "    output_feature = {\n",
    "        \"type\": \"Feature\",\n",
    "        \"properties\": new_properties,\n",
    "        \"geometry\": geometry,\n",
    "    }\n",
    "    output_data[\"features\"].append(output_feature)\n",
    "\n",
    "with open(\"telangana.geojson\", \"w\") as f:\n",
    "    json.dump(output_data, f, indent=2)\n",
    "\n",
    "print(\"Transformation complete! Check the output file.\")\n"
   ]
  }
 ],
 "metadata": {
  "kernelspec": {
   "display_name": "Python 3",
   "language": "python",
   "name": "python3"
  },
  "language_info": {
   "codemirror_mode": {
    "name": "ipython",
    "version": 3
   },
   "file_extension": ".py",
   "mimetype": "text/x-python",
   "name": "python",
   "nbconvert_exporter": "python",
   "pygments_lexer": "ipython3",
   "version": "3.10.11"
  }
 },
 "nbformat": 4,
 "nbformat_minor": 2
}
